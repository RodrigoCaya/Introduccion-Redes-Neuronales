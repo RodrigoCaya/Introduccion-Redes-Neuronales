{
  "nbformat": 4,
  "nbformat_minor": 0,
  "metadata": {
    "colab": {
      "name": "Ejemplo-Sentiment-FNN-CNN-RNN-EJECUTADO-EN-CLASES.ipynb",
      "provenance": [],
      "collapsed_sections": [],
      "toc_visible": true
    },
    "kernelspec": {
      "name": "python3",
      "display_name": "Python 3"
    },
    "accelerator": "GPU"
  },
  "cells": [
    {
      "cell_type": "markdown",
      "metadata": {
        "id": "ZuL4cbV1-LFr"
      },
      "source": [
        "# Redes Neuronales en Clasificación de Sentimiento"
      ]
    },
    {
      "cell_type": "markdown",
      "metadata": {
        "id": "slPTSuh5-Mov"
      },
      "source": [
        "En este notebook aprenderemos a construir redes de 3 tipos (una clásica FFN, una CNN y una RNN) para clasificar textos. Concretamente haremos análisis de sentimiento sobre tweets posteados por usuarios de una conocida aerolínea estadounidense."
      ]
    },
    {
      "cell_type": "markdown",
      "metadata": {
        "id": "V62mcnl2uokZ"
      },
      "source": [
        "<table align='left'>\n",
        "<tr>\n",
        "<td><img src='https://miro.medium.com/max/3260/1*8XIjunF2z6dmsVlkEuOUaw.png' width='650'/></td>\n",
        "</tr>\n",
        "</table>\n",
        "\n"
      ]
    },
    {
      "cell_type": "markdown",
      "metadata": {
        "id": "P2tGmhfDG_sz"
      },
      "source": [
        "## Datos & Mini-Exploración"
      ]
    },
    {
      "cell_type": "markdown",
      "metadata": {
        "id": "gYHdwzXQHBk4"
      },
      "source": [
        "Los datos que usaremos forman parte de un pequeño corpus denominado *Twitter US Airline Sentiment* disponible en Kaggle.com. Acá abajo les dejo un link para descargarlos de modo más directo. Se tienen 14.640 tweets posteados por usuarios de la aerolínea clasificados como: positivos, negativos o neutrales. Nuestra tarea será aprender a detectar el sentimiento que se expresa en el texto.\n",
        "\n"
      ]
    },
    {
      "cell_type": "code",
      "metadata": {
        "colab": {
          "base_uri": "https://localhost:8080/"
        },
        "id": "kcOUQFXK-CfP",
        "outputId": "f108cc5f-f641-4673-8e38-758e3f887192"
      },
      "source": [
        "!wget www.inf.utfsm.cl/~jnancu/Tweets-Airline.csv\n",
        "path = ''\n"
      ],
      "execution_count": null,
      "outputs": [
        {
          "output_type": "stream",
          "name": "stdout",
          "text": [
            "--2021-11-15 22:26:04--  http://www.inf.utfsm.cl/~jnancu/Tweets-Airline.csv\n",
            "Resolving www.inf.utfsm.cl (www.inf.utfsm.cl)... 200.1.19.11, 2800:270:c::11\n",
            "Connecting to www.inf.utfsm.cl (www.inf.utfsm.cl)|200.1.19.11|:80... connected.\n",
            "HTTP request sent, awaiting response... 302 Found\n",
            "Location: https://www.inf.utfsm.cl/~jnancu/Tweets-Airline.csv [following]\n",
            "--2021-11-15 22:26:05--  https://www.inf.utfsm.cl/~jnancu/Tweets-Airline.csv\n",
            "Connecting to www.inf.utfsm.cl (www.inf.utfsm.cl)|200.1.19.11|:443... connected.\n",
            "HTTP request sent, awaiting response... 200 OK\n",
            "Length: 3421431 (3.3M) [application/octet-stream]\n",
            "Saving to: ‘Tweets-Airline.csv’\n",
            "\n",
            "Tweets-Airline.csv  100%[===================>]   3.26M  2.54MB/s    in 1.3s    \n",
            "\n",
            "2021-11-15 22:26:06 (2.54 MB/s) - ‘Tweets-Airline.csv’ saved [3421431/3421431]\n",
            "\n"
          ]
        }
      ]
    },
    {
      "cell_type": "markdown",
      "metadata": {
        "id": "J3YYXikrbZLZ"
      },
      "source": [
        "El código de acá abajo conecta el notebook con Google Drive. Si almacenan los datos allí es una alternativa práctica."
      ]
    },
    {
      "cell_type": "code",
      "metadata": {
        "id": "E-girKy8-LeN",
        "colab": {
          "base_uri": "https://localhost:8080/"
        },
        "outputId": "2dffef72-5b94-4242-8bd8-08c9afaa6d4d"
      },
      "source": [
        "print(\"Mounting your Google Drive ...\")\n",
        "\n",
        "from google.colab import drive\n",
        "drive.flush_and_unmount()\n",
        "drive.mount('/content/drive',force_remount=True)\n",
        " \n",
        "path = \"/content/drive/My Drive/Modulo-DipDL/\"#Esta es la ruta\n"
      ],
      "execution_count": null,
      "outputs": [
        {
          "output_type": "stream",
          "text": [
            "Mounting your Google Drive ...\n",
            "Drive not mounted, so nothing to flush and unmount.\n",
            "Mounted at /content/drive\n"
          ],
          "name": "stdout"
        }
      ]
    },
    {
      "cell_type": "code",
      "metadata": {
        "id": "V4z5_xN3cGCG",
        "colab": {
          "base_uri": "https://localhost:8080/",
          "height": 462
        },
        "outputId": "fda9ee61-4094-4952-96a6-d4f36fe3ffb8"
      },
      "source": [
        "file  = 'Tweets-Airline.csv'\n",
        "\n",
        "import pandas as pd\n",
        "import numpy as np\n",
        "import seaborn as sns; sns.set()\n",
        "import matplotlib.pyplot as plt\n",
        "\n",
        "data= pd.read_csv(path+file, sep=',')\n",
        "print(data.shape)\n",
        "\n",
        "data.head(5)"
      ],
      "execution_count": null,
      "outputs": [
        {
          "output_type": "stream",
          "name": "stdout",
          "text": [
            "(14640, 15)\n"
          ]
        },
        {
          "output_type": "execute_result",
          "data": {
            "text/html": [
              "<div>\n",
              "<style scoped>\n",
              "    .dataframe tbody tr th:only-of-type {\n",
              "        vertical-align: middle;\n",
              "    }\n",
              "\n",
              "    .dataframe tbody tr th {\n",
              "        vertical-align: top;\n",
              "    }\n",
              "\n",
              "    .dataframe thead th {\n",
              "        text-align: right;\n",
              "    }\n",
              "</style>\n",
              "<table border=\"1\" class=\"dataframe\">\n",
              "  <thead>\n",
              "    <tr style=\"text-align: right;\">\n",
              "      <th></th>\n",
              "      <th>tweet_id</th>\n",
              "      <th>airline_sentiment</th>\n",
              "      <th>airline_sentiment_confidence</th>\n",
              "      <th>negativereason</th>\n",
              "      <th>negativereason_confidence</th>\n",
              "      <th>airline</th>\n",
              "      <th>airline_sentiment_gold</th>\n",
              "      <th>name</th>\n",
              "      <th>negativereason_gold</th>\n",
              "      <th>retweet_count</th>\n",
              "      <th>text</th>\n",
              "      <th>tweet_coord</th>\n",
              "      <th>tweet_created</th>\n",
              "      <th>tweet_location</th>\n",
              "      <th>user_timezone</th>\n",
              "    </tr>\n",
              "  </thead>\n",
              "  <tbody>\n",
              "    <tr>\n",
              "      <th>0</th>\n",
              "      <td>570306133677760513</td>\n",
              "      <td>neutral</td>\n",
              "      <td>1.0000</td>\n",
              "      <td>NaN</td>\n",
              "      <td>NaN</td>\n",
              "      <td>Virgin America</td>\n",
              "      <td>NaN</td>\n",
              "      <td>cairdin</td>\n",
              "      <td>NaN</td>\n",
              "      <td>0</td>\n",
              "      <td>@VirginAmerica What @dhepburn said.</td>\n",
              "      <td>NaN</td>\n",
              "      <td>2015-02-24 11:35:52 -0800</td>\n",
              "      <td>NaN</td>\n",
              "      <td>Eastern Time (US &amp; Canada)</td>\n",
              "    </tr>\n",
              "    <tr>\n",
              "      <th>1</th>\n",
              "      <td>570301130888122368</td>\n",
              "      <td>positive</td>\n",
              "      <td>0.3486</td>\n",
              "      <td>NaN</td>\n",
              "      <td>0.0000</td>\n",
              "      <td>Virgin America</td>\n",
              "      <td>NaN</td>\n",
              "      <td>jnardino</td>\n",
              "      <td>NaN</td>\n",
              "      <td>0</td>\n",
              "      <td>@VirginAmerica plus you've added commercials t...</td>\n",
              "      <td>NaN</td>\n",
              "      <td>2015-02-24 11:15:59 -0800</td>\n",
              "      <td>NaN</td>\n",
              "      <td>Pacific Time (US &amp; Canada)</td>\n",
              "    </tr>\n",
              "    <tr>\n",
              "      <th>2</th>\n",
              "      <td>570301083672813571</td>\n",
              "      <td>neutral</td>\n",
              "      <td>0.6837</td>\n",
              "      <td>NaN</td>\n",
              "      <td>NaN</td>\n",
              "      <td>Virgin America</td>\n",
              "      <td>NaN</td>\n",
              "      <td>yvonnalynn</td>\n",
              "      <td>NaN</td>\n",
              "      <td>0</td>\n",
              "      <td>@VirginAmerica I didn't today... Must mean I n...</td>\n",
              "      <td>NaN</td>\n",
              "      <td>2015-02-24 11:15:48 -0800</td>\n",
              "      <td>Lets Play</td>\n",
              "      <td>Central Time (US &amp; Canada)</td>\n",
              "    </tr>\n",
              "    <tr>\n",
              "      <th>3</th>\n",
              "      <td>570301031407624196</td>\n",
              "      <td>negative</td>\n",
              "      <td>1.0000</td>\n",
              "      <td>Bad Flight</td>\n",
              "      <td>0.7033</td>\n",
              "      <td>Virgin America</td>\n",
              "      <td>NaN</td>\n",
              "      <td>jnardino</td>\n",
              "      <td>NaN</td>\n",
              "      <td>0</td>\n",
              "      <td>@VirginAmerica it's really aggressive to blast...</td>\n",
              "      <td>NaN</td>\n",
              "      <td>2015-02-24 11:15:36 -0800</td>\n",
              "      <td>NaN</td>\n",
              "      <td>Pacific Time (US &amp; Canada)</td>\n",
              "    </tr>\n",
              "    <tr>\n",
              "      <th>4</th>\n",
              "      <td>570300817074462722</td>\n",
              "      <td>negative</td>\n",
              "      <td>1.0000</td>\n",
              "      <td>Can't Tell</td>\n",
              "      <td>1.0000</td>\n",
              "      <td>Virgin America</td>\n",
              "      <td>NaN</td>\n",
              "      <td>jnardino</td>\n",
              "      <td>NaN</td>\n",
              "      <td>0</td>\n",
              "      <td>@VirginAmerica and it's a really big bad thing...</td>\n",
              "      <td>NaN</td>\n",
              "      <td>2015-02-24 11:14:45 -0800</td>\n",
              "      <td>NaN</td>\n",
              "      <td>Pacific Time (US &amp; Canada)</td>\n",
              "    </tr>\n",
              "  </tbody>\n",
              "</table>\n",
              "</div>"
            ],
            "text/plain": [
              "             tweet_id  ...               user_timezone\n",
              "0  570306133677760513  ...  Eastern Time (US & Canada)\n",
              "1  570301130888122368  ...  Pacific Time (US & Canada)\n",
              "2  570301083672813571  ...  Central Time (US & Canada)\n",
              "3  570301031407624196  ...  Pacific Time (US & Canada)\n",
              "4  570300817074462722  ...  Pacific Time (US & Canada)\n",
              "\n",
              "[5 rows x 15 columns]"
            ]
          },
          "metadata": {},
          "execution_count": 4
        }
      ]
    },
    {
      "cell_type": "code",
      "metadata": {
        "colab": {
          "base_uri": "https://localhost:8080/"
        },
        "id": "HrIltYRLwywu",
        "outputId": "b2432348-ee36-48b8-f8f4-428fdb02e644"
      },
      "source": [
        "print(data.shape)"
      ],
      "execution_count": null,
      "outputs": [
        {
          "output_type": "stream",
          "name": "stdout",
          "text": [
            "(11541, 2)\n"
          ]
        }
      ]
    },
    {
      "cell_type": "code",
      "metadata": {
        "id": "gkH9LuenebPX",
        "colab": {
          "base_uri": "https://localhost:8080/",
          "height": 443
        },
        "outputId": "cf2f014f-300b-4a8f-fb5e-9c267b7de009"
      },
      "source": [
        "import seaborn as sns; sns.set()\n",
        "import matplotlib.pyplot as plt\n",
        "\n",
        "print(\"\\n\")\n",
        "fig, ax = plt.subplots(figsize=(10,5),nrows=1)\n",
        "sns.countplot(data['airline_sentiment'],palette=\"Blues_d\")\n",
        "ax.set_title('Distribución del campo label')\n",
        "plt.show()\n"
      ],
      "execution_count": null,
      "outputs": [
        {
          "output_type": "stream",
          "name": "stdout",
          "text": [
            "\n",
            "\n"
          ]
        },
        {
          "output_type": "stream",
          "name": "stderr",
          "text": [
            "/usr/local/lib/python3.7/dist-packages/seaborn/_decorators.py:43: FutureWarning: Pass the following variable as a keyword arg: x. From version 0.12, the only valid positional argument will be `data`, and passing other arguments without an explicit keyword will result in an error or misinterpretation.\n",
            "  FutureWarning\n"
          ]
        },
        {
          "output_type": "display_data",
          "data": {
            "image/png": "[encoded data removed]",
            "text/plain": [
              "<Figure size 720x360 with 1 Axes>"
            ]
          },
          "metadata": {}
        }
      ]
    },
    {
      "cell_type": "code",
      "metadata": {
        "id": "q7b5IXXXeqx1",
        "colab": {
          "base_uri": "https://localhost:8080/",
          "height": 426
        },
        "outputId": "aabd8280-c7d0-4956-fde7-7104f4bbafef"
      },
      "source": [
        "lenghts_pos = []\n",
        "lenghts_neg = []\n",
        "lenghts_neutral = []\n",
        "\n",
        "for sentence,label in zip(data['text'],data['airline_sentiment']):\n",
        "  if label == 'negative':\n",
        "    lenghts_neg.append(len(sentence.lower().split()))\n",
        "  if label == 'positive':\n",
        "    lenghts_pos.append(len(sentence.lower().split()))\n",
        "  if label == 'neutral':\n",
        "    lenghts_neutral.append(len(sentence.lower().split()))\n",
        "\n",
        "print(\"\\n\")\n",
        "fig, ax = plt.subplots(figsize=(10,5),nrows=1)\n",
        "sns.distplot(lenghts_pos,hist=True, kde=False, norm_hist=False, label='positivo',ax=ax)\n",
        "sns.distplot(lenghts_neg,hist=True, kde=False, norm_hist=False, label='negativo',ax=ax)\n",
        "sns.distplot(lenghts_neutral,hist=True, kde=False, norm_hist=False, label='negativo',ax=ax)\n",
        "ax.set_title('Distribución del largo de los textos')\n",
        "ax.legend()\n",
        "plt.show()\n",
        "\n"
      ],
      "execution_count": null,
      "outputs": [
        {
          "output_type": "stream",
          "name": "stdout",
          "text": [
            "\n",
            "\n"
          ]
        },
        {
          "output_type": "stream",
          "name": "stderr",
          "text": [
            "/usr/local/lib/python3.7/dist-packages/seaborn/distributions.py:2619: FutureWarning: `distplot` is a deprecated function and will be removed in a future version. Please adapt your code to use either `displot` (a figure-level function with similar flexibility) or `histplot` (an axes-level function for histograms).\n",
            "  warnings.warn(msg, FutureWarning)\n"
          ]
        },
        {
          "output_type": "display_data",
          "data": {
            "image/png": "[encoded data removed]",
            "text/plain": [
              "<Figure size 720x360 with 1 Axes>"
            ]
          },
          "metadata": {}
        }
      ]
    },
    {
      "cell_type": "markdown",
      "metadata": {
        "id": "YqJpe8qkmPVd"
      },
      "source": [
        "## Splits & Selección de Clases"
      ]
    },
    {
      "cell_type": "code",
      "metadata": {
        "id": "FInnrG1KmVMY"
      },
      "source": [
        "lab_tweets = data[['text','airline_sentiment']]\n",
        "lab_tweets = lab_tweets[lab_tweets['airline_sentiment'] != 'neutral']\n",
        "msk = np.random.rand(len(lab_tweets)) < 0.8\n",
        "data = lab_tweets\n",
        "data_for_trans = lab_tweets"
      ],
      "execution_count": null,
      "outputs": []
    },
    {
      "cell_type": "markdown",
      "metadata": {
        "id": "NU9kdgfRdOlx"
      },
      "source": [
        "## De Tweets a Vectores"
      ]
    },
    {
      "cell_type": "markdown",
      "metadata": {
        "id": "Wc-2HjKnhu09"
      },
      "source": [
        "### Filtrado de Stopwords y Otros"
      ]
    },
    {
      "cell_type": "code",
      "metadata": {
        "id": "d2pnTMuRg5OI",
        "colab": {
          "base_uri": "https://localhost:8080/"
        },
        "outputId": "e4348cf1-33c1-47f2-bc8e-0460564c5e69"
      },
      "source": [
        "import nltk\n",
        "nltk.download('wordnet')\n",
        "nltk.download('stopwords')\n",
        "from nltk.corpus import stopwords\n",
        "\n",
        "sentences = []\n",
        "labels = []\n",
        "\n",
        "for sentence,label in zip(data['text'],data['airline_sentiment']):\n",
        "  labels.append(label)\n",
        "  for word in stopwords.words('english'):\n",
        "    token = ''+ word+ ''\n",
        "    sentence = sentence.replace(token,'')\n",
        "    sentence = sentence.replace(' ', ' ')\n",
        "  sentences.append(sentence)\n",
        "\n",
        "print(len(sentences))\n",
        "print(sentences[0])"
      ],
      "execution_count": null,
      "outputs": [
        {
          "output_type": "stream",
          "name": "stdout",
          "text": [
            "[nltk_data] Downloading package wordnet to /root/nltk_data...\n",
            "[nltk_data]   Unzipping corpora/wordnet.zip.\n",
            "[nltk_data] Downloading package stopwords to /root/nltk_data...\n",
            "[nltk_data]   Unzipping corpora/stopwords.zip.\n",
            "11541\n",
            "@VrgnArc plu ' e crcl   expence... ck.\n"
          ]
        }
      ]
    },
    {
      "cell_type": "markdown",
      "metadata": {
        "id": "CMMQltgwh2jD"
      },
      "source": [
        "### Vectorización"
      ]
    },
    {
      "cell_type": "code",
      "metadata": {
        "id": "qZpLc5ENh7Kw",
        "colab": {
          "base_uri": "https://localhost:8080/"
        },
        "outputId": "6d863ca5-cf32-465c-c4df-7b725f27d8be"
      },
      "source": [
        "from tensorflow.keras.preprocessing.text import Tokenizer\n",
        "\n",
        "TF_tokenizer = Tokenizer(num_words=5000)\n",
        "TF_tokenizer.fit_on_texts(sentences)\n",
        "tweet_vectors = TF_tokenizer.texts_to_matrix(sentences, mode='freq')#binary', 'count', 'tfidf'\n",
        "print(tweet_vectors.shape)\n",
        "#quedan menos si los neutrales son removidos\n"
      ],
      "execution_count": null,
      "outputs": [
        {
          "output_type": "stream",
          "name": "stdout",
          "text": [
            "(11541, 5000)\n"
          ]
        }
      ]
    },
    {
      "cell_type": "code",
      "metadata": {
        "colab": {
          "base_uri": "https://localhost:8080/"
        },
        "id": "LUck7JEDyEqh",
        "outputId": "456d8490-d508-4011-9392-9b0eccc91e31"
      },
      "source": [
        "print(11541/500000)"
      ],
      "execution_count": null,
      "outputs": [
        {
          "output_type": "stream",
          "name": "stdout",
          "text": [
            "0.023082\n"
          ]
        }
      ]
    },
    {
      "cell_type": "markdown",
      "metadata": {
        "id": "aVzIAthultJB"
      },
      "source": [
        "## Red Feed-Forward sobre Representación Vectorial TF"
      ]
    },
    {
      "cell_type": "markdown",
      "metadata": {
        "id": "wc2QFWpWovty"
      },
      "source": [
        "### Modelo"
      ]
    },
    {
      "cell_type": "code",
      "metadata": {
        "id": "307sO-z1nt3n"
      },
      "source": [
        "\n",
        "from tensorflow.keras.models import Sequential\n",
        "from tensorflow.keras.layers import Dense, Activation\n",
        "from tensorflow.keras.optimizers import SGD, Adam\n",
        "from tensorflow.keras.layers import Dropout\n",
        "\n",
        "\n",
        "def modelo_clasico(num_words=5000):\n",
        "\n",
        "  model = Sequential()\n",
        "  model.add(Dense(50, input_shape=(num_words,), activation=\"relu\"))\n",
        "  model.add(Dense(20,activation=\"relu\"))\n",
        "  model.add(Dense(1,activation=\"sigmoid\"))\n",
        "\n",
        "  opt = SGD(0.1)\n",
        "  model.compile(loss='binary_crossentropy', metrics=['accuracy'], optimizer=opt)\n",
        "\n",
        "  return model\n"
      ],
      "execution_count": null,
      "outputs": []
    },
    {
      "cell_type": "code",
      "metadata": {
        "id": "OgU8ErAtm74Z",
        "colab": {
          "base_uri": "https://localhost:8080/"
        },
        "outputId": "dbb6db1b-4d57-46d5-ac80-d95b1748c63b"
      },
      "source": [
        "modelo_FF = modelo_clasico(num_words=5000)\n",
        "modelo_FF.summary()\n"
      ],
      "execution_count": null,
      "outputs": [
        {
          "output_type": "stream",
          "name": "stdout",
          "text": [
            "Model: \"sequential\"\n",
            "_________________________________________________________________\n",
            " Layer (type)                Output Shape              Param #   \n",
            "=================================================================\n",
            " dense (Dense)               (None, 50)                250050    \n",
            "                                                                 \n",
            " dense_1 (Dense)             (None, 20)                1020      \n",
            "                                                                 \n",
            " dense_2 (Dense)             (None, 1)                 21        \n",
            "                                                                 \n",
            "=================================================================\n",
            "Total params: 251,091\n",
            "Trainable params: 251,091\n",
            "Non-trainable params: 0\n",
            "_________________________________________________________________\n"
          ]
        }
      ]
    },
    {
      "cell_type": "markdown",
      "metadata": {
        "id": "xtaj5N0spPnc"
      },
      "source": [
        "### Entrenamiento"
      ]
    },
    {
      "cell_type": "code",
      "metadata": {
        "id": "u-wcEHTol5JR",
        "colab": {
          "base_uri": "https://localhost:8080/"
        },
        "outputId": "60549e4f-60ff-42e3-8270-87f24af390f3"
      },
      "source": [
        "tweet_train = tweet_vectors[msk]\n",
        "tweet_test = tweet_vectors[~msk]\n",
        "\n",
        "sentiments = data['airline_sentiment'].factorize()\n",
        "sentiments_labels = sentiments[0]\n",
        "sentiments_tags = sentiments[1]\n",
        "print(sentiments_labels)\n",
        "\n",
        "res_l, res_c = np.unique(sentiments_labels, return_counts=True)\n",
        "print(res_l,res_c)\n",
        "sentiment_train = sentiments_labels[msk]\n",
        "sentiment_test = sentiments_labels[~msk] \n",
        "\n",
        "modelo_FF = modelo_clasico(num_words=5000)\n",
        "historial_FF = modelo_FF.fit(tweet_train, sentiment_train, batch_size=64, epochs=40, verbose=2, validation_data=(tweet_test, sentiment_test))\n"
      ],
      "execution_count": null,
      "outputs": [
        {
          "output_type": "stream",
          "name": "stdout",
          "text": [
            "[0 1 1 ... 0 1 1]\n",
            "[0 1] [2363 9178]\n",
            "Epoch 1/40\n",
            "144/144 - 1s - loss: 0.5156 - accuracy: 0.7901 - val_loss: 0.4936 - val_accuracy: 0.8008 - 910ms/epoch - 6ms/step\n",
            "Epoch 2/40\n",
            "144/144 - 0s - loss: 0.4988 - accuracy: 0.7938 - val_loss: 0.4858 - val_accuracy: 0.8008 - 491ms/epoch - 3ms/step\n",
            "Epoch 3/40\n",
            "144/144 - 1s - loss: 0.4872 - accuracy: 0.7938 - val_loss: 0.4706 - val_accuracy: 0.8008 - 501ms/epoch - 3ms/step\n",
            "Epoch 4/40\n",
            "144/144 - 0s - loss: 0.4669 - accuracy: 0.7983 - val_loss: 0.4481 - val_accuracy: 0.8157 - 447ms/epoch - 3ms/step\n",
            "Epoch 5/40\n",
            "144/144 - 1s - loss: 0.4379 - accuracy: 0.8128 - val_loss: 0.4170 - val_accuracy: 0.8191 - 501ms/epoch - 3ms/step\n",
            "Epoch 6/40\n",
            "144/144 - 0s - loss: 0.4065 - accuracy: 0.8290 - val_loss: 0.3844 - val_accuracy: 0.8358 - 428ms/epoch - 3ms/step\n",
            "Epoch 7/40\n",
            "144/144 - 1s - loss: 0.3827 - accuracy: 0.8424 - val_loss: 0.3624 - val_accuracy: 0.8439 - 514ms/epoch - 4ms/step\n",
            "Epoch 8/40\n",
            "144/144 - 0s - loss: 0.3647 - accuracy: 0.8518 - val_loss: 0.3583 - val_accuracy: 0.8592 - 492ms/epoch - 3ms/step\n",
            "Epoch 9/40\n",
            "144/144 - 0s - loss: 0.3606 - accuracy: 0.8520 - val_loss: 0.3447 - val_accuracy: 0.8622 - 440ms/epoch - 3ms/step\n",
            "Epoch 10/40\n",
            "144/144 - 1s - loss: 0.3464 - accuracy: 0.8589 - val_loss: 0.3292 - val_accuracy: 0.8656 - 506ms/epoch - 4ms/step\n",
            "Epoch 11/40\n",
            "144/144 - 0s - loss: 0.3509 - accuracy: 0.8573 - val_loss: 0.3347 - val_accuracy: 0.8665 - 432ms/epoch - 3ms/step\n",
            "Epoch 12/40\n",
            "144/144 - 0s - loss: 0.3408 - accuracy: 0.8623 - val_loss: 0.3211 - val_accuracy: 0.8699 - 426ms/epoch - 3ms/step\n",
            "Epoch 13/40\n",
            "144/144 - 0s - loss: 0.3486 - accuracy: 0.8604 - val_loss: 0.3671 - val_accuracy: 0.8481 - 437ms/epoch - 3ms/step\n",
            "Epoch 14/40\n",
            "144/144 - 0s - loss: 0.3337 - accuracy: 0.8654 - val_loss: 0.3260 - val_accuracy: 0.8635 - 426ms/epoch - 3ms/step\n",
            "Epoch 15/40\n",
            "144/144 - 0s - loss: 0.3249 - accuracy: 0.8693 - val_loss: 0.3058 - val_accuracy: 0.8729 - 490ms/epoch - 3ms/step\n",
            "Epoch 16/40\n",
            "144/144 - 0s - loss: 0.3217 - accuracy: 0.8683 - val_loss: 0.3442 - val_accuracy: 0.8673 - 420ms/epoch - 3ms/step\n",
            "Epoch 17/40\n",
            "144/144 - 0s - loss: 0.3318 - accuracy: 0.8662 - val_loss: 0.4272 - val_accuracy: 0.8306 - 491ms/epoch - 3ms/step\n",
            "Epoch 18/40\n",
            "144/144 - 0s - loss: 0.3199 - accuracy: 0.8709 - val_loss: 0.3067 - val_accuracy: 0.8720 - 437ms/epoch - 3ms/step\n",
            "Epoch 19/40\n",
            "144/144 - 0s - loss: 0.3231 - accuracy: 0.8688 - val_loss: 0.3945 - val_accuracy: 0.8460 - 488ms/epoch - 3ms/step\n",
            "Epoch 20/40\n",
            "144/144 - 0s - loss: 0.3220 - accuracy: 0.8701 - val_loss: 0.2966 - val_accuracy: 0.8754 - 430ms/epoch - 3ms/step\n",
            "Epoch 21/40\n",
            "144/144 - 0s - loss: 0.3149 - accuracy: 0.8731 - val_loss: 0.3055 - val_accuracy: 0.8741 - 491ms/epoch - 3ms/step\n",
            "Epoch 22/40\n",
            "144/144 - 0s - loss: 0.3170 - accuracy: 0.8734 - val_loss: 0.2942 - val_accuracy: 0.8776 - 428ms/epoch - 3ms/step\n",
            "Epoch 23/40\n",
            "144/144 - 1s - loss: 0.3061 - accuracy: 0.8769 - val_loss: 0.2996 - val_accuracy: 0.8754 - 502ms/epoch - 3ms/step\n",
            "Epoch 24/40\n",
            "144/144 - 0s - loss: 0.3030 - accuracy: 0.8769 - val_loss: 0.3841 - val_accuracy: 0.8562 - 424ms/epoch - 3ms/step\n",
            "Epoch 25/40\n",
            "144/144 - 0s - loss: 0.3066 - accuracy: 0.8781 - val_loss: 0.3367 - val_accuracy: 0.8643 - 414ms/epoch - 3ms/step\n",
            "Epoch 26/40\n",
            "144/144 - 0s - loss: 0.2952 - accuracy: 0.8828 - val_loss: 0.5822 - val_accuracy: 0.7154 - 442ms/epoch - 3ms/step\n",
            "Epoch 27/40\n",
            "144/144 - 0s - loss: 0.3024 - accuracy: 0.8797 - val_loss: 0.3964 - val_accuracy: 0.8545 - 427ms/epoch - 3ms/step\n",
            "Epoch 28/40\n",
            "144/144 - 0s - loss: 0.2950 - accuracy: 0.8832 - val_loss: 0.2869 - val_accuracy: 0.8818 - 495ms/epoch - 3ms/step\n",
            "Epoch 29/40\n",
            "144/144 - 0s - loss: 0.2950 - accuracy: 0.8810 - val_loss: 0.3387 - val_accuracy: 0.8648 - 497ms/epoch - 3ms/step\n",
            "Epoch 30/40\n",
            "144/144 - 0s - loss: 0.2943 - accuracy: 0.8806 - val_loss: 0.3268 - val_accuracy: 0.8720 - 426ms/epoch - 3ms/step\n",
            "Epoch 31/40\n",
            "144/144 - 0s - loss: 0.2949 - accuracy: 0.8831 - val_loss: 0.3045 - val_accuracy: 0.8767 - 426ms/epoch - 3ms/step\n",
            "Epoch 32/40\n",
            "144/144 - 0s - loss: 0.2915 - accuracy: 0.8844 - val_loss: 0.3225 - val_accuracy: 0.8737 - 486ms/epoch - 3ms/step\n",
            "Epoch 33/40\n",
            "144/144 - 1s - loss: 0.2964 - accuracy: 0.8795 - val_loss: 0.3149 - val_accuracy: 0.8750 - 517ms/epoch - 4ms/step\n",
            "Epoch 34/40\n",
            "144/144 - 0s - loss: 0.2883 - accuracy: 0.8828 - val_loss: 0.3023 - val_accuracy: 0.8784 - 421ms/epoch - 3ms/step\n",
            "Epoch 35/40\n",
            "144/144 - 0s - loss: 0.2877 - accuracy: 0.8817 - val_loss: 0.3523 - val_accuracy: 0.8665 - 491ms/epoch - 3ms/step\n",
            "Epoch 36/40\n",
            "144/144 - 0s - loss: 0.2866 - accuracy: 0.8835 - val_loss: 0.2824 - val_accuracy: 0.8840 - 438ms/epoch - 3ms/step\n",
            "Epoch 37/40\n",
            "144/144 - 0s - loss: 0.2790 - accuracy: 0.8864 - val_loss: 0.3250 - val_accuracy: 0.8643 - 484ms/epoch - 3ms/step\n",
            "Epoch 38/40\n",
            "144/144 - 0s - loss: 0.2813 - accuracy: 0.8878 - val_loss: 0.2827 - val_accuracy: 0.8823 - 419ms/epoch - 3ms/step\n",
            "Epoch 39/40\n",
            "144/144 - 0s - loss: 0.2750 - accuracy: 0.8892 - val_loss: 0.2930 - val_accuracy: 0.8784 - 422ms/epoch - 3ms/step\n",
            "Epoch 40/40\n",
            "144/144 - 1s - loss: 0.2792 - accuracy: 0.8866 - val_loss: 0.4653 - val_accuracy: 0.8507 - 501ms/epoch - 3ms/step\n"
          ]
        }
      ]
    },
    {
      "cell_type": "markdown",
      "metadata": {
        "id": "cg-PXIR3uQ7I"
      },
      "source": [
        "### Evaluación\n"
      ]
    },
    {
      "cell_type": "code",
      "metadata": {
        "id": "5mEBUZuhuV3o",
        "colab": {
          "base_uri": "https://localhost:8080/",
          "height": 909
        },
        "outputId": "24b55e8b-848d-46b4-e8df-7ee4373e5995"
      },
      "source": [
        "import matplotlib.pyplot as plt\n",
        "from sklearn.metrics import classification_report, confusion_matrix\n",
        "from sklearn.metrics import ConfusionMatrixDisplay\n",
        "\n",
        "\n",
        "fig, axis = plt.subplots(1, 2, figsize=(14,5))\n",
        "axis[0].plot(historial_FF.history['val_accuracy'], label='val_acc')\n",
        "axis[1].plot(historial_FF.history['accuracy'], label='acc')\n",
        "plt.show()\n",
        "\n",
        "y_pred = modelo_FF.predict(tweet_test).round().astype(int)[:,0]\n",
        "\n",
        "acc_test = np.mean(sentiment_test == y_pred)\n",
        "\n",
        "print(\"\\nACCURACY TEST FINAL: \" , acc_test )\n",
        "\n",
        "target_names = [str(i) for i in range(10)]\n",
        "\n",
        "print(\"\\nConfusion Matrix\\n\")\n",
        "fig, ax = plt.subplots(figsize=(5, 5))\n",
        "cm = confusion_matrix(sentiment_test, y_pred)\n",
        "disp = ConfusionMatrixDisplay(confusion_matrix=cm, display_labels=sentiments_tags)\n",
        "disp = disp.plot(ax=ax,cmap=plt.cm.Blues)\n",
        "plt.show()\n",
        "\n",
        "print(\"\\nClassification Report\\n\")\n",
        "\n",
        "print(classification_report(sentiment_test, y_pred, target_names=sentiments_tags))\n"
      ],
      "execution_count": null,
      "outputs": [
        {
          "output_type": "display_data",
          "data": {
            "image/png": "[encoded data removed]",
            "text/plain": [
              "<Figure size 1008x360 with 2 Axes>"
            ]
          },
          "metadata": {}
        },
        {
          "output_type": "stream",
          "name": "stdout",
          "text": [
            "\n",
            "ACCURACY TEST FINAL:  0.8506825938566553\n",
            "\n",
            "Confusion Matrix\n",
            "\n"
          ]
        },
        {
          "output_type": "display_data",
          "data": {
            "image/png": "[encoded data removed]",
            "text/plain": [
              "<Figure size 360x360 with 2 Axes>"
            ]
          },
          "metadata": {}
        },
        {
          "output_type": "stream",
          "name": "stdout",
          "text": [
            "\n",
            "Classification Report\n",
            "\n",
            "              precision    recall  f1-score   support\n",
            "\n",
            "    positive       0.95      0.27      0.41       467\n",
            "    negative       0.85      1.00      0.91      1877\n",
            "\n",
            "    accuracy                           0.85      2344\n",
            "   macro avg       0.90      0.63      0.66      2344\n",
            "weighted avg       0.87      0.85      0.81      2344\n",
            "\n"
          ]
        }
      ]
    },
    {
      "cell_type": "code",
      "metadata": {
        "id": "7OAHrwIyvnxv",
        "colab": {
          "base_uri": "https://localhost:8080/"
        },
        "outputId": "053ab074-7f9d-42bb-8c77-1222a1d9e276"
      },
      "source": [
        "test_tweet =\"This is soo sad\"\n",
        "tweet_vector = TF_tokenizer.texts_to_matrix([test_tweet], mode='freq')\n",
        "prediction = int(modelo_FF.predict(tweet_vector).round())\n",
        "print(\"TEST TWEET: \",test_tweet)\n",
        "print(\"PREDICTION: \",sentiments_tags[prediction])"
      ],
      "execution_count": null,
      "outputs": [
        {
          "output_type": "stream",
          "name": "stdout",
          "text": [
            "TEST TWEET:  This is soo sad\n",
            "PREDICTION:  negative\n"
          ]
        }
      ]
    },
    {
      "cell_type": "markdown",
      "metadata": {
        "id": "eanWY-J4cjIe"
      },
      "source": [
        "## Red Neuronal sobre Embeddings "
      ]
    },
    {
      "cell_type": "markdown",
      "metadata": {
        "id": "A3NbBHuFrM7G"
      },
      "source": [
        "### Descarga de Embeddings Pre-entrenados"
      ]
    },
    {
      "cell_type": "markdown",
      "metadata": {
        "id": "eDky-HnKcspm"
      },
      "source": [
        "El comando de abajo descarga los vectores pre-entrenados a la máquina local."
      ]
    },
    {
      "cell_type": "code",
      "metadata": {
        "id": "wPdFdwQrYz2O",
        "colab": {
          "base_uri": "https://localhost:8080/"
        },
        "outputId": "1b9911c5-9092-4f86-a626-dc4dab629173"
      },
      "source": [
        "!wget http://nlp.stanford.edu/data/glove.twitter.27B.zip"
      ],
      "execution_count": null,
      "outputs": [
        {
          "output_type": "stream",
          "name": "stdout",
          "text": [
            "--2021-11-15 23:33:09--  http://nlp.stanford.edu/data/glove.twitter.27B.zip\n",
            "Resolving nlp.stanford.edu (nlp.stanford.edu)... 171.64.67.140\n",
            "Connecting to nlp.stanford.edu (nlp.stanford.edu)|171.64.67.140|:80... connected.\n",
            "HTTP request sent, awaiting response... 302 Found\n",
            "Location: https://nlp.stanford.edu/data/glove.twitter.27B.zip [following]\n",
            "--2021-11-15 23:33:09--  https://nlp.stanford.edu/data/glove.twitter.27B.zip\n",
            "Connecting to nlp.stanford.edu (nlp.stanford.edu)|171.64.67.140|:443... connected.\n",
            "HTTP request sent, awaiting response... 301 Moved Permanently\n",
            "Location: http://downloads.cs.stanford.edu/nlp/data/glove.twitter.27B.zip [following]\n",
            "--2021-11-15 23:33:09--  http://downloads.cs.stanford.edu/nlp/data/glove.twitter.27B.zip\n",
            "Resolving downloads.cs.stanford.edu (downloads.cs.stanford.edu)... 171.64.64.22\n",
            "Connecting to downloads.cs.stanford.edu (downloads.cs.stanford.edu)|171.64.64.22|:80... connected.\n",
            "HTTP request sent, awaiting response... 200 OK\n",
            "Length: 1520408563 (1.4G) [application/zip]\n",
            "Saving to: ‘glove.twitter.27B.zip’\n",
            "\n",
            "glove.twitter.27B.z   8%[>                   ] 125.41M  5.00MB/s    eta 3m 35s ^C\n"
          ]
        }
      ]
    },
    {
      "cell_type": "code",
      "metadata": {
        "id": "HYhOXARPZBGA",
        "colab": {
          "base_uri": "https://localhost:8080/",
          "height": 358
        },
        "outputId": "583d83f5-ce05-47e9-8cf7-7ec9f61cf513"
      },
      "source": [
        "import zipfile\n",
        "zip_ref = zipfile.ZipFile('glove.twitter.27B.zip', 'r')\n",
        "zip_ref.extractall('glove-global-vectors-for-word-representation/')\n",
        "zip_ref.close()"
      ],
      "execution_count": null,
      "outputs": [
        {
          "output_type": "error",
          "ename": "BadZipFile",
          "evalue": "ignored",
          "traceback": [
            "\u001b[0;31m---------------------------------------------------------------------------\u001b[0m",
            "\u001b[0;31mBadZipFile\u001b[0m                                Traceback (most recent call last)",
            "\u001b[0;32m<ipython-input-21-f9723aa58f92>\u001b[0m in \u001b[0;36m<module>\u001b[0;34m()\u001b[0m\n\u001b[1;32m      1\u001b[0m \u001b[0;32mimport\u001b[0m \u001b[0mzipfile\u001b[0m\u001b[0;34m\u001b[0m\u001b[0;34m\u001b[0m\u001b[0m\n\u001b[0;32m----> 2\u001b[0;31m \u001b[0mzip_ref\u001b[0m \u001b[0;34m=\u001b[0m \u001b[0mzipfile\u001b[0m\u001b[0;34m.\u001b[0m\u001b[0mZipFile\u001b[0m\u001b[0;34m(\u001b[0m\u001b[0;34m'glove.twitter.27B.zip'\u001b[0m\u001b[0;34m,\u001b[0m \u001b[0;34m'r'\u001b[0m\u001b[0;34m)\u001b[0m\u001b[0;34m\u001b[0m\u001b[0;34m\u001b[0m\u001b[0m\n\u001b[0m\u001b[1;32m      3\u001b[0m \u001b[0mzip_ref\u001b[0m\u001b[0;34m.\u001b[0m\u001b[0mextractall\u001b[0m\u001b[0;34m(\u001b[0m\u001b[0;34m'glove-global-vectors-for-word-representation/'\u001b[0m\u001b[0;34m)\u001b[0m\u001b[0;34m\u001b[0m\u001b[0;34m\u001b[0m\u001b[0m\n\u001b[1;32m      4\u001b[0m \u001b[0mzip_ref\u001b[0m\u001b[0;34m.\u001b[0m\u001b[0mclose\u001b[0m\u001b[0;34m(\u001b[0m\u001b[0;34m)\u001b[0m\u001b[0;34m\u001b[0m\u001b[0;34m\u001b[0m\u001b[0m\n",
            "\u001b[0;32m/usr/lib/python3.7/zipfile.py\u001b[0m in \u001b[0;36m__init__\u001b[0;34m(self, file, mode, compression, allowZip64, compresslevel)\u001b[0m\n\u001b[1;32m   1256\u001b[0m         \u001b[0;32mtry\u001b[0m\u001b[0;34m:\u001b[0m\u001b[0;34m\u001b[0m\u001b[0;34m\u001b[0m\u001b[0m\n\u001b[1;32m   1257\u001b[0m             \u001b[0;32mif\u001b[0m \u001b[0mmode\u001b[0m \u001b[0;34m==\u001b[0m \u001b[0;34m'r'\u001b[0m\u001b[0;34m:\u001b[0m\u001b[0;34m\u001b[0m\u001b[0;34m\u001b[0m\u001b[0m\n\u001b[0;32m-> 1258\u001b[0;31m                 \u001b[0mself\u001b[0m\u001b[0;34m.\u001b[0m\u001b[0m_RealGetContents\u001b[0m\u001b[0;34m(\u001b[0m\u001b[0;34m)\u001b[0m\u001b[0;34m\u001b[0m\u001b[0;34m\u001b[0m\u001b[0m\n\u001b[0m\u001b[1;32m   1259\u001b[0m             \u001b[0;32melif\u001b[0m \u001b[0mmode\u001b[0m \u001b[0;32min\u001b[0m \u001b[0;34m(\u001b[0m\u001b[0;34m'w'\u001b[0m\u001b[0;34m,\u001b[0m \u001b[0;34m'x'\u001b[0m\u001b[0;34m)\u001b[0m\u001b[0;34m:\u001b[0m\u001b[0;34m\u001b[0m\u001b[0;34m\u001b[0m\u001b[0m\n\u001b[1;32m   1260\u001b[0m                 \u001b[0;31m# set the modified flag so central directory gets written\u001b[0m\u001b[0;34m\u001b[0m\u001b[0;34m\u001b[0m\u001b[0;34m\u001b[0m\u001b[0m\n",
            "\u001b[0;32m/usr/lib/python3.7/zipfile.py\u001b[0m in \u001b[0;36m_RealGetContents\u001b[0;34m(self)\u001b[0m\n\u001b[1;32m   1323\u001b[0m             \u001b[0;32mraise\u001b[0m \u001b[0mBadZipFile\u001b[0m\u001b[0;34m(\u001b[0m\u001b[0;34m\"File is not a zip file\"\u001b[0m\u001b[0;34m)\u001b[0m\u001b[0;34m\u001b[0m\u001b[0;34m\u001b[0m\u001b[0m\n\u001b[1;32m   1324\u001b[0m         \u001b[0;32mif\u001b[0m \u001b[0;32mnot\u001b[0m \u001b[0mendrec\u001b[0m\u001b[0;34m:\u001b[0m\u001b[0;34m\u001b[0m\u001b[0;34m\u001b[0m\u001b[0m\n\u001b[0;32m-> 1325\u001b[0;31m             \u001b[0;32mraise\u001b[0m \u001b[0mBadZipFile\u001b[0m\u001b[0;34m(\u001b[0m\u001b[0;34m\"File is not a zip file\"\u001b[0m\u001b[0;34m)\u001b[0m\u001b[0;34m\u001b[0m\u001b[0;34m\u001b[0m\u001b[0m\n\u001b[0m\u001b[1;32m   1326\u001b[0m         \u001b[0;32mif\u001b[0m \u001b[0mself\u001b[0m\u001b[0;34m.\u001b[0m\u001b[0mdebug\u001b[0m \u001b[0;34m>\u001b[0m \u001b[0;36m1\u001b[0m\u001b[0;34m:\u001b[0m\u001b[0;34m\u001b[0m\u001b[0;34m\u001b[0m\u001b[0m\n\u001b[1;32m   1327\u001b[0m             \u001b[0mprint\u001b[0m\u001b[0;34m(\u001b[0m\u001b[0mendrec\u001b[0m\u001b[0;34m)\u001b[0m\u001b[0;34m\u001b[0m\u001b[0;34m\u001b[0m\u001b[0m\n",
            "\u001b[0;31mBadZipFile\u001b[0m: File is not a zip file"
          ]
        }
      ]
    },
    {
      "cell_type": "code",
      "metadata": {
        "id": "Ca9qqPTPcbo0"
      },
      "source": [
        "!ls glove-global-vectors-for-word-representation/"
      ],
      "execution_count": null,
      "outputs": []
    },
    {
      "cell_type": "code",
      "metadata": {
        "id": "gnnKS0GAcSd8",
        "colab": {
          "base_uri": "https://localhost:8080/",
          "height": 249
        },
        "outputId": "a8283ba7-fbe9-44d8-fd1f-abc2f4b779cc"
      },
      "source": [
        "emd_dim = 64\n",
        "\n",
        "emb_dict = {}\n",
        "\n",
        "glove_file = 'glove.twitter.27B.' + str(emd_dim) + 'd.txt'\n",
        "glove_dir = 'glove-global-vectors-for-word-representation/'\n",
        "\n",
        "glove = open(glove_dir+glove_file)\n",
        "for line in glove:\n",
        "    values = line.split()\n",
        "    word = values[0]\n",
        "    vector = np.asarray(values[1:], dtype='float32')\n",
        "    emb_dict[word] = vector\n",
        "glove.close()"
      ],
      "execution_count": null,
      "outputs": [
        {
          "output_type": "error",
          "ename": "FileNotFoundError",
          "evalue": "ignored",
          "traceback": [
            "\u001b[0;31m---------------------------------------------------------------------------\u001b[0m",
            "\u001b[0;31mFileNotFoundError\u001b[0m                         Traceback (most recent call last)",
            "\u001b[0;32m<ipython-input-19-5a44ff5c749c>\u001b[0m in \u001b[0;36m<module>\u001b[0;34m()\u001b[0m\n\u001b[1;32m      6\u001b[0m \u001b[0mglove_dir\u001b[0m \u001b[0;34m=\u001b[0m \u001b[0;34m'glove-global-vectors-for-word-representation/'\u001b[0m\u001b[0;34m\u001b[0m\u001b[0;34m\u001b[0m\u001b[0m\n\u001b[1;32m      7\u001b[0m \u001b[0;34m\u001b[0m\u001b[0m\n\u001b[0;32m----> 8\u001b[0;31m \u001b[0mglove\u001b[0m \u001b[0;34m=\u001b[0m \u001b[0mopen\u001b[0m\u001b[0;34m(\u001b[0m\u001b[0mglove_dir\u001b[0m\u001b[0;34m+\u001b[0m\u001b[0mglove_file\u001b[0m\u001b[0;34m)\u001b[0m\u001b[0;34m\u001b[0m\u001b[0;34m\u001b[0m\u001b[0m\n\u001b[0m\u001b[1;32m      9\u001b[0m \u001b[0;32mfor\u001b[0m \u001b[0mline\u001b[0m \u001b[0;32min\u001b[0m \u001b[0mglove\u001b[0m\u001b[0;34m:\u001b[0m\u001b[0;34m\u001b[0m\u001b[0;34m\u001b[0m\u001b[0m\n\u001b[1;32m     10\u001b[0m     \u001b[0mvalues\u001b[0m \u001b[0;34m=\u001b[0m \u001b[0mline\u001b[0m\u001b[0;34m.\u001b[0m\u001b[0msplit\u001b[0m\u001b[0;34m(\u001b[0m\u001b[0;34m)\u001b[0m\u001b[0;34m\u001b[0m\u001b[0;34m\u001b[0m\u001b[0m\n",
            "\u001b[0;31mFileNotFoundError\u001b[0m: [Errno 2] No such file or directory: 'glove-global-vectors-for-word-representation/glove.twitter.27B.64d.txt'"
          ]
        }
      ]
    },
    {
      "cell_type": "markdown",
      "metadata": {
        "id": "Sz7rGIMrrQ9H"
      },
      "source": [
        "### De Tweets a Secuencias de Palabras"
      ]
    },
    {
      "cell_type": "code",
      "metadata": {
        "colab": {
          "base_uri": "https://localhost:8080/"
        },
        "id": "UkfryR2VrPke",
        "outputId": "855897c5-68e8-43f2-d2c2-1f24cd8bccdc"
      },
      "source": [
        "from tensorflow.keras.preprocessing.text import Tokenizer\n",
        "from tensorflow.keras.preprocessing.sequence import pad_sequences\n",
        "\n",
        "emd_dim = 64\n",
        "tweets = data['text'].values\n",
        "\n",
        "Seq_tokenizer = Tokenizer(num_words=5000)\n",
        "Seq_tokenizer.fit_on_texts(tweets)\n",
        "\n",
        "vocab_size = len(Seq_tokenizer.word_index) + 1\n",
        "sequences = Seq_tokenizer.texts_to_sequences(tweets)\n",
        "padded_sequences = pad_sequences(sequences, maxlen=50)\n",
        "\n",
        "print(tweets[0])\n",
        "print(sequences[0])\n",
        "print(padded_sequences[0])\n",
        "\n",
        "seqs_train = padded_sequences[msk]\n",
        "seqs_test = padded_sequences[~msk]\n",
        "\n",
        "sentiments = data['airline_sentiment'].factorize()\n",
        "sentiments_labels = sentiments[0]\n",
        "sentiments_tags = sentiments[1]\n",
        "print(sentiments_labels)\n",
        "\n",
        "res_l, res_c = np.unique(sentiments_labels, return_counts=True)\n",
        "print(res_l,res_c)\n",
        "sentiment_train = sentiments_labels[msk]\n",
        "sentiment_test = sentiments_labels[~msk] \n"
      ],
      "execution_count": null,
      "outputs": [
        {
          "output_type": "stream",
          "name": "stdout",
          "text": [
            "@VirginAmerica plus you've added commercials to the experience... tacky.\n",
            "[103, 575, 530, 1287, 2416, 1, 2, 177]\n",
            "[   0    0    0    0    0    0    0    0    0    0    0    0    0    0\n",
            "    0    0    0    0    0    0    0    0    0    0    0    0    0    0\n",
            "    0    0    0    0    0    0    0    0    0    0    0    0    0    0\n",
            "  103  575  530 1287 2416    1    2  177]\n",
            "[0 1 1 ... 0 1 1]\n",
            "[0 1] [2363 9178]\n"
          ]
        }
      ]
    },
    {
      "cell_type": "markdown",
      "metadata": {
        "id": "nwRyO76DrhH3"
      },
      "source": [
        "### Preparacción de la Matriz Palabras Embedidas"
      ]
    },
    {
      "cell_type": "code",
      "metadata": {
        "id": "ohJxd_1uZVvK"
      },
      "source": [
        "n_max_words = 5000\n",
        "\n",
        "emb_matrix = np.zeros((n_max_words, emd_dim))\n",
        "\n",
        "for w, i in Seq_tokenizer.word_index.items():\n",
        "    if i < n_max_words:\n",
        "        vect = emb_dict.get(w)\n",
        "        if vect is not None:\n",
        "            emb_matrix[i] = vect\n",
        "    else:\n",
        "        break\n"
      ],
      "execution_count": null,
      "outputs": []
    },
    {
      "cell_type": "markdown",
      "metadata": {
        "id": "g7Xm1SgXJrtn"
      },
      "source": [
        "### Modelos"
      ]
    },
    {
      "cell_type": "code",
      "metadata": {
        "id": "4fnFBFwCGkDy"
      },
      "source": [
        "from tensorflow.keras.models import Sequential\n",
        "from tensorflow.keras.layers import LSTM, Dense, Dropout\n",
        "from tensorflow.keras.layers import SpatialDropout1D\n",
        "from tensorflow.keras.layers import Embedding, Flatten\n",
        "\n",
        "from keras.layers.convolutional import Conv1D\n",
        "from keras.layers.convolutional import MaxPooling1D\n",
        "\n",
        "def fnn_sentiment():\n",
        "\n",
        "  fnn_model = Sequential()\n",
        "  fnn_model.add(Embedding(n_max_words, emd_dim, input_length=50))\n",
        "  fnn_model.add(Flatten())\n",
        "  fnn_model.add(Dense(10, activation='relu'))\n",
        "  fnn_model.add(Dense(1, activation='sigmoid'))\n",
        "  print(fnn_model.summary())\n",
        "\n",
        "  #fnn_model.layers[0].set_weights([emb_matrix])\n",
        "  #fnn_model.layers[0].trainable = False\n",
        "\n",
        "  fnn_model.compile(optimizer='adam', loss='binary_crossentropy', metrics=['accuracy'])\n",
        "\n",
        "  return fnn_model\n",
        "\n",
        "def cnn_sentiment():\n",
        "\n",
        "  cnn_model = Sequential()\n",
        "  cnn_model.add(Embedding(n_max_words, emd_dim, input_length=50))\n",
        "  cnn_model.add(Conv1D(filters=64, kernel_size=8, activation='relu', padding='same'))\n",
        "  cnn_model.add(MaxPooling1D(pool_size=2))\n",
        "  cnn_model.add(Flatten())\n",
        "  cnn_model.add(Dense(10, activation='relu'))\n",
        "  cnn_model.add(Dense(1, activation='sigmoid'))\n",
        "  print(cnn_model.summary())\n",
        "  \n",
        "  cnn_model.compile(optimizer='adam', loss='binary_crossentropy', metrics=['accuracy'])\n",
        "\n",
        "  return cnn_model\n"
      ],
      "execution_count": null,
      "outputs": []
    },
    {
      "cell_type": "markdown",
      "metadata": {
        "id": "WCemikXirkox"
      },
      "source": [
        "### Entrenamiento"
      ]
    },
    {
      "cell_type": "code",
      "metadata": {
        "id": "jfL2AZdFOHAL",
        "colab": {
          "base_uri": "https://localhost:8080/"
        },
        "outputId": "3b9a636c-61dc-472b-f62f-cc0aeeffa67e"
      },
      "source": [
        "fnn_model = fnn_sentiment()\n",
        "\n",
        "fnn_history = fnn_model.fit(seqs_train, sentiment_train, epochs=10, batch_size=64, validation_data=(seqs_test, sentiment_test))\n"
      ],
      "execution_count": null,
      "outputs": [
        {
          "output_type": "stream",
          "name": "stdout",
          "text": [
            "Model: \"sequential_13\"\n",
            "_________________________________________________________________\n",
            " Layer (type)                Output Shape              Param #   \n",
            "=================================================================\n",
            " embedding_10 (Embedding)    (None, 50, 64)            320000    \n",
            "                                                                 \n",
            " flatten_10 (Flatten)        (None, 3200)              0         \n",
            "                                                                 \n",
            " dense_24 (Dense)            (None, 10)                32010     \n",
            "                                                                 \n",
            " dense_25 (Dense)            (None, 1)                 11        \n",
            "                                                                 \n",
            "=================================================================\n",
            "Total params: 352,021\n",
            "Trainable params: 352,021\n",
            "Non-trainable params: 0\n",
            "_________________________________________________________________\n",
            "None\n",
            "Epoch 1/10\n",
            "144/144 [==============================] - 1s 4ms/step - loss: 0.4349 - accuracy: 0.7900 - val_loss: 0.3221 - val_accuracy: 0.8008\n",
            "Epoch 2/10\n",
            "144/144 [==============================] - 1s 4ms/step - loss: 0.2614 - accuracy: 0.9017 - val_loss: 0.2621 - val_accuracy: 0.9181\n",
            "Epoch 3/10\n",
            "144/144 [==============================] - 1s 4ms/step - loss: 0.1460 - accuracy: 0.9566 - val_loss: 0.2096 - val_accuracy: 0.9262\n",
            "Epoch 4/10\n",
            "144/144 [==============================] - 1s 4ms/step - loss: 0.0656 - accuracy: 0.9806 - val_loss: 0.2268 - val_accuracy: 0.9189\n",
            "Epoch 5/10\n",
            "144/144 [==============================] - 1s 4ms/step - loss: 0.0334 - accuracy: 0.9922 - val_loss: 0.2434 - val_accuracy: 0.9172\n",
            "Epoch 6/10\n",
            "144/144 [==============================] - 1s 4ms/step - loss: 0.0196 - accuracy: 0.9972 - val_loss: 0.2672 - val_accuracy: 0.9142\n",
            "Epoch 7/10\n",
            "144/144 [==============================] - 1s 4ms/step - loss: 0.0135 - accuracy: 0.9979 - val_loss: 0.2914 - val_accuracy: 0.9177\n",
            "Epoch 8/10\n",
            "144/144 [==============================] - 1s 4ms/step - loss: 0.0096 - accuracy: 0.9978 - val_loss: 0.2966 - val_accuracy: 0.9155\n",
            "Epoch 9/10\n",
            "144/144 [==============================] - 1s 4ms/step - loss: 0.0073 - accuracy: 0.9986 - val_loss: 0.3554 - val_accuracy: 0.9151\n",
            "Epoch 10/10\n",
            "144/144 [==============================] - 1s 4ms/step - loss: 0.0058 - accuracy: 0.9989 - val_loss: 0.3318 - val_accuracy: 0.9151\n"
          ]
        }
      ]
    },
    {
      "cell_type": "code",
      "metadata": {
        "id": "k-aBVPJJrrpY",
        "colab": {
          "base_uri": "https://localhost:8080/"
        },
        "outputId": "45f0a651-4c18-4e2f-c9a4-7d7f110bfb74"
      },
      "source": [
        "cnn_model = cnn_sentiment()\n",
        "cnn_history = cnn_model.fit(seqs_train, sentiment_train, epochs=10, batch_size=64, validation_data=(seqs_test, sentiment_test))\n"
      ],
      "execution_count": null,
      "outputs": [
        {
          "output_type": "stream",
          "name": "stdout",
          "text": [
            "Model: \"sequential_12\"\n",
            "_________________________________________________________________\n",
            " Layer (type)                Output Shape              Param #   \n",
            "=================================================================\n",
            " embedding_9 (Embedding)     (None, 50, 64)            320000    \n",
            "                                                                 \n",
            " conv1d_4 (Conv1D)           (None, 50, 64)            32832     \n",
            "                                                                 \n",
            " max_pooling1d_4 (MaxPooling  (None, 25, 64)           0         \n",
            " 1D)                                                             \n",
            "                                                                 \n",
            " flatten_9 (Flatten)         (None, 1600)              0         \n",
            "                                                                 \n",
            " dense_22 (Dense)            (None, 10)                16010     \n",
            "                                                                 \n",
            " dense_23 (Dense)            (None, 1)                 11        \n",
            "                                                                 \n",
            "=================================================================\n",
            "Total params: 368,853\n",
            "Trainable params: 368,853\n",
            "Non-trainable params: 0\n",
            "_________________________________________________________________\n",
            "None\n",
            "Epoch 1/10\n",
            "144/144 [==============================] - 15s 6ms/step - loss: 0.4012 - accuracy: 0.8157 - val_loss: 0.2779 - val_accuracy: 0.9091\n",
            "Epoch 2/10\n",
            "144/144 [==============================] - 1s 5ms/step - loss: 0.2243 - accuracy: 0.9390 - val_loss: 0.2721 - val_accuracy: 0.9168\n",
            "Epoch 3/10\n",
            "144/144 [==============================] - 1s 4ms/step - loss: 0.1749 - accuracy: 0.9616 - val_loss: 0.2903 - val_accuracy: 0.9164\n",
            "Epoch 4/10\n",
            "144/144 [==============================] - 1s 4ms/step - loss: 0.1469 - accuracy: 0.9730 - val_loss: 0.3239 - val_accuracy: 0.9142\n",
            "Epoch 5/10\n",
            "144/144 [==============================] - 1s 4ms/step - loss: 0.1263 - accuracy: 0.9796 - val_loss: 0.3334 - val_accuracy: 0.9155\n",
            "Epoch 6/10\n",
            "144/144 [==============================] - 1s 4ms/step - loss: 0.1111 - accuracy: 0.9846 - val_loss: 0.3446 - val_accuracy: 0.9121\n",
            "Epoch 7/10\n",
            "144/144 [==============================] - 1s 5ms/step - loss: 0.0993 - accuracy: 0.9874 - val_loss: 0.4014 - val_accuracy: 0.9104\n",
            "Epoch 8/10\n",
            "144/144 [==============================] - 1s 4ms/step - loss: 0.0906 - accuracy: 0.9889 - val_loss: 0.3743 - val_accuracy: 0.9040\n",
            "Epoch 9/10\n",
            "144/144 [==============================] - 1s 4ms/step - loss: 0.0831 - accuracy: 0.9895 - val_loss: 0.3842 - val_accuracy: 0.9078\n",
            "Epoch 10/10\n",
            "144/144 [==============================] - 1s 4ms/step - loss: 0.0466 - accuracy: 0.9885 - val_loss: 0.5014 - val_accuracy: 0.9147\n"
          ]
        }
      ]
    },
    {
      "cell_type": "markdown",
      "metadata": {
        "id": "uynIB7eHKKiP"
      },
      "source": [
        "### Evaluación"
      ]
    },
    {
      "cell_type": "code",
      "metadata": {
        "colab": {
          "base_uri": "https://localhost:8080/",
          "height": 911
        },
        "id": "ALugNw1R-XNI",
        "outputId": "e773b5fe-b6df-4324-83db-2b2161769a47"
      },
      "source": [
        "import matplotlib.pyplot as plt\n",
        "from sklearn.metrics import classification_report, confusion_matrix\n",
        "from sklearn.metrics import ConfusionMatrixDisplay\n",
        "\n",
        "\n",
        "fig, axis = plt.subplots(1, 2, figsize=(14,5))\n",
        "axis[0].plot(fnn_history.history['val_accuracy'], label='val_acc')\n",
        "axis[1].plot(fnn_history.history['accuracy'], label='acc')\n",
        "plt.show()\n",
        "\n",
        "y_pred =  fnn_model.predict(seqs_test).round().astype(int)[:,0]\n",
        "\n",
        "acc_test = np.mean(sentiment_test == y_pred)\n",
        "\n",
        "print(\"\\nACCURACY TEST FINAL: \" , acc_test )\n",
        "\n",
        "target_names = [str(i) for i in range(10)]\n",
        "\n",
        "print(\"\\nConfusion Matrix\\n\")\n",
        "fig, ax = plt.subplots(figsize=(5, 5))\n",
        "cm = confusion_matrix(sentiment_test, y_pred)\n",
        "disp = ConfusionMatrixDisplay(confusion_matrix=cm, display_labels=sentiments_tags)\n",
        "disp = disp.plot(ax=ax,cmap=plt.cm.Blues)\n",
        "plt.show()\n",
        "\n",
        "print(\"\\nClassification Report\\n\")\n",
        "\n",
        "print(classification_report(sentiment_test, y_pred, target_names=sentiments_tags))\n"
      ],
      "execution_count": null,
      "outputs": [
        {
          "output_type": "display_data",
          "data": {
            "image/png": "[encoded data removed]",
            "text/plain": [
              "<Figure size 1008x360 with 2 Axes>"
            ]
          },
          "metadata": {}
        },
        {
          "output_type": "stream",
          "name": "stdout",
          "text": [
            "\n",
            "ACCURACY TEST FINAL:  0.9193686006825939\n",
            "\n",
            "Confusion Matrix\n",
            "\n"
          ]
        },
        {
          "output_type": "display_data",
          "data": {
            "image/png": "[encoded data removed]",
            "text/plain": [
              "<Figure size 360x360 with 2 Axes>"
            ]
          },
          "metadata": {}
        },
        {
          "output_type": "stream",
          "name": "stdout",
          "text": [
            "\n",
            "Classification Report\n",
            "\n",
            "              precision    recall  f1-score   support\n",
            "\n",
            "    positive       0.85      0.73      0.78       467\n",
            "    negative       0.93      0.97      0.95      1877\n",
            "\n",
            "    accuracy                           0.92      2344\n",
            "   macro avg       0.89      0.85      0.87      2344\n",
            "weighted avg       0.92      0.92      0.92      2344\n",
            "\n"
          ]
        }
      ]
    },
    {
      "cell_type": "code",
      "metadata": {
        "id": "hYM7UxenKNIh",
        "colab": {
          "base_uri": "https://localhost:8080/",
          "height": 909
        },
        "outputId": "a74a1c49-84a5-48f6-985e-f6e21fa3038b"
      },
      "source": [
        "import matplotlib.pyplot as plt\n",
        "from sklearn.metrics import classification_report, confusion_matrix\n",
        "from sklearn.metrics import ConfusionMatrixDisplay\n",
        "\n",
        "\n",
        "fig, axis = plt.subplots(1, 2, figsize=(14,5))\n",
        "axis[0].plot(cnn_history.history['val_accuracy'], label='val_acc')\n",
        "axis[1].plot(cnn_history.history['accuracy'], label='acc')\n",
        "plt.show()\n",
        "\n",
        "y_pred =  cnn_model.predict(seqs_test).round().astype(int)[:,0]\n",
        "\n",
        "acc_test = np.mean(sentiment_test == y_pred)\n",
        "\n",
        "print(\"\\nACCURACY TEST FINAL: \" , acc_test )\n",
        "\n",
        "target_names = [str(i) for i in range(10)]\n",
        "\n",
        "print(\"\\nConfusion Matrix\\n\")\n",
        "fig, ax = plt.subplots(figsize=(5, 5))\n",
        "cm = confusion_matrix(sentiment_test, y_pred)\n",
        "disp = ConfusionMatrixDisplay(confusion_matrix=cm, display_labels=sentiments_tags)\n",
        "disp = disp.plot(ax=ax,cmap=plt.cm.Blues)\n",
        "plt.show()\n",
        "\n",
        "print(\"\\nClassification Report\\n\")\n",
        "\n",
        "print(classification_report(sentiment_test, y_pred, target_names=sentiments_tags))\n"
      ],
      "execution_count": null,
      "outputs": [
        {
          "output_type": "display_data",
          "data": {
            "image/png": "[encoded data removed]",
            "text/plain": [
              "<Figure size 1008x360 with 2 Axes>"
            ]
          },
          "metadata": {}
        },
        {
          "output_type": "stream",
          "name": "stdout",
          "text": [
            "\n",
            "ACCURACY TEST FINAL:  0.9096308867204073\n",
            "\n",
            "Confusion Matrix\n",
            "\n"
          ]
        },
        {
          "output_type": "display_data",
          "data": {
            "image/png": "[encoded data removed]",
            "text/plain": [
              "<Figure size 360x360 with 2 Axes>"
            ]
          },
          "metadata": {}
        },
        {
          "output_type": "stream",
          "name": "stdout",
          "text": [
            "\n",
            "Classification Report\n",
            "\n",
            "              precision    recall  f1-score   support\n",
            "\n",
            "    positive       0.83      0.72      0.77       498\n",
            "    negative       0.93      0.96      0.94      1859\n",
            "\n",
            "    accuracy                           0.91      2357\n",
            "   macro avg       0.88      0.84      0.86      2357\n",
            "weighted avg       0.91      0.91      0.91      2357\n",
            "\n"
          ]
        }
      ]
    },
    {
      "cell_type": "code",
      "metadata": {
        "id": "xg6nhSywKXCd",
        "colab": {
          "base_uri": "https://localhost:8080/"
        },
        "outputId": "39b58d95-fc75-4bc5-e724-8b9835b2cd64"
      },
      "source": [
        "test_word =\"This is soo sad\"\n",
        "seq = Seq_tokenizer.texts_to_sequences([test_word])\n",
        "seq = pad_sequences(seq,maxlen=200)\n",
        "prediction = int(cnn_model.predict(seq).round().item())\n",
        "print(\"TEST TWEET: \",test_tweet)\n",
        "print(\"PREDICTION: \",sentiments_tags[prediction])\n"
      ],
      "execution_count": null,
      "outputs": [
        {
          "output_type": "stream",
          "name": "stdout",
          "text": [
            "TEST TWEET:  This is soo sad\n",
            "PREDICTION:  negative\n"
          ]
        }
      ]
    },
    {
      "cell_type": "markdown",
      "metadata": {
        "id": "d-twVD9kHQ3Q"
      },
      "source": [
        "### Modelo Recurrente"
      ]
    },
    {
      "cell_type": "code",
      "metadata": {
        "id": "c_44sWVuHS6f",
        "colab": {
          "base_uri": "https://localhost:8080/"
        },
        "outputId": "ee7553e4-5ba5-4d7b-cb8e-ce79971dee43"
      },
      "source": [
        "glove_model = Sequential()\n",
        "glove_model.add(Embedding(n_max_words, emd_dim, input_length=50))\n",
        "glove_model.add(LSTM(50, dropout=0.5))\n",
        "glove_model.add(Dropout(0.2))\n",
        "glove_model.add(Dense(1, activation='sigmoid'))\n",
        "glove_model.compile(loss='binary_crossentropy',optimizer='adam', metrics=['accuracy'])\n",
        "print(glove_model.summary())\n",
        "\n",
        "#glove_model.layers[0].set_weights([emb_matrix])\n",
        "#glove_model.layers[0].trainable = False\n",
        "\n",
        "glove_model.compile(optimizer='adam', loss='binary_crossentropy', metrics=['accuracy'])\n"
      ],
      "execution_count": null,
      "outputs": [
        {
          "output_type": "stream",
          "name": "stdout",
          "text": [
            "Model: \"sequential_18\"\n",
            "_________________________________________________________________\n",
            " Layer (type)                Output Shape              Param #   \n",
            "=================================================================\n",
            " embedding_15 (Embedding)    (None, 50, 64)            320000    \n",
            "                                                                 \n",
            " lstm_4 (LSTM)               (None, 50)                23000     \n",
            "                                                                 \n",
            " dropout_1 (Dropout)         (None, 50)                0         \n",
            "                                                                 \n",
            " dense_30 (Dense)            (None, 1)                 51        \n",
            "                                                                 \n",
            "=================================================================\n",
            "Total params: 343,051\n",
            "Trainable params: 343,051\n",
            "Non-trainable params: 0\n",
            "_________________________________________________________________\n",
            "None\n"
          ]
        }
      ]
    },
    {
      "cell_type": "code",
      "metadata": {
        "id": "L3kFqRUAHidZ",
        "colab": {
          "base_uri": "https://localhost:8080/"
        },
        "outputId": "5b63b245-52d9-4519-a593-30cac0886060"
      },
      "source": [
        "glove_history = glove_model.fit(seqs_train, sentiment_train, epochs=10, batch_size=64, validation_data=(seqs_test, sentiment_test))\n"
      ],
      "execution_count": null,
      "outputs": [
        {
          "output_type": "stream",
          "name": "stdout",
          "text": [
            "Epoch 1/10\n",
            "144/144 [==============================] - 1s 7ms/step - loss: 0.0304 - accuracy: 0.9896 - val_loss: 0.3618 - val_accuracy: 0.9113\n",
            "Epoch 2/10\n",
            "144/144 [==============================] - 1s 7ms/step - loss: 0.0237 - accuracy: 0.9918 - val_loss: 0.3654 - val_accuracy: 0.9049\n",
            "Epoch 3/10\n",
            "144/144 [==============================] - 1s 7ms/step - loss: 0.0254 - accuracy: 0.9904 - val_loss: 0.4207 - val_accuracy: 0.9023\n",
            "Epoch 4/10\n",
            "144/144 [==============================] - 1s 6ms/step - loss: 0.0234 - accuracy: 0.9917 - val_loss: 0.4208 - val_accuracy: 0.9070\n",
            "Epoch 5/10\n",
            "144/144 [==============================] - 1s 6ms/step - loss: 0.0240 - accuracy: 0.9923 - val_loss: 0.4644 - val_accuracy: 0.9053\n",
            "Epoch 6/10\n",
            "144/144 [==============================] - 1s 6ms/step - loss: 0.0183 - accuracy: 0.9935 - val_loss: 0.5074 - val_accuracy: 0.9053\n",
            "Epoch 7/10\n",
            "144/144 [==============================] - 1s 7ms/step - loss: 0.0253 - accuracy: 0.9911 - val_loss: 0.4543 - val_accuracy: 0.9074\n",
            "Epoch 8/10\n",
            "144/144 [==============================] - 1s 7ms/step - loss: 0.0237 - accuracy: 0.9910 - val_loss: 0.4668 - val_accuracy: 0.9023\n",
            "Epoch 9/10\n",
            "144/144 [==============================] - 1s 6ms/step - loss: 0.0167 - accuracy: 0.9952 - val_loss: 0.4371 - val_accuracy: 0.9049\n",
            "Epoch 10/10\n",
            "144/144 [==============================] - 1s 6ms/step - loss: 0.0166 - accuracy: 0.9939 - val_loss: 0.5660 - val_accuracy: 0.9070\n"
          ]
        }
      ]
    }
  ]
}